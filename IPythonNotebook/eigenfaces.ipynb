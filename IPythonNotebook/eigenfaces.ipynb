{
 "cells": [
  {
   "cell_type": "code",
   "execution_count": 4,
   "metadata": {
    "collapsed": false
   },
   "outputs": [
    {
     "name": "stdout",
     "output_type": "stream",
     "text": [
      "(400, 4096)\n"
     ]
    }
   ],
   "source": [
    "import numpy\n",
    "\n",
    "from numpy.random import RandomState\n",
    "from sklearn.datasets import fetch_olivetti_faces\n",
    "\n",
    "dataset = fetch_olivetti_faces(shuffle = True, random_state = RandomState(1))\n",
    "#dataset = fetch_olivetti_faces(shuffle = True, random_state = RandomState(127))\n",
    "faces = dataset.data\n",
    "\n",
    "(n_samples, n_features) = faces.shape\n",
    "print(faces.shape)\n",
    "\n",
    "# global centering\n",
    "faces_mean = faces.mean(axis = 0)\n",
    "faces_centered = faces - faces_mean\n",
    "\n",
    "# local centering\n",
    "faces_centered -= faces_centered.mean(axis = 1).reshape(n_samples, -1)\n",
    "\n",
    "faces_centered.shape # |images| x |pixels|\n",
    "\n",
    "split = int(0.25*len(faces))\n",
    "\n",
    "test_faces = faces_centered[:split]\n",
    "test_targets = dataset.target[:split]\n",
    "\n",
    "train_faces = faces_centered[split:]\n",
    "train_targets = dataset.target[split:]"
   ]
  },
  {
   "cell_type": "markdown",
   "metadata": {},
   "source": [
    "# Perform Eigen Analysis"
   ]
  },
  {
   "cell_type": "markdown",
   "metadata": {},
   "source": [
    "## Compute surrogate covariance matrix"
   ]
  },
  {
   "cell_type": "code",
   "execution_count": 5,
   "metadata": {
    "collapsed": false
   },
   "outputs": [
    {
     "data": {
      "text/plain": [
       "(300, 300)"
      ]
     },
     "execution_count": 5,
     "metadata": {},
     "output_type": "execute_result"
    }
   ],
   "source": [
    "A = train_faces\n",
    "A.shape\n",
    "L = A.dot(A.T)\n",
    "L.shape # |images| x |images|"
   ]
  },
  {
   "cell_type": "markdown",
   "metadata": {},
   "source": [
    "## Compute strong eigen vectors"
   ]
  },
  {
   "cell_type": "code",
   "execution_count": 6,
   "metadata": {
    "collapsed": false
   },
   "outputs": [
    {
     "data": {
      "text/plain": [
       "(300, 297)"
      ]
     },
     "execution_count": 6,
     "metadata": {},
     "output_type": "execute_result"
    }
   ],
   "source": [
    "(L_eigenvalues, L_eigenvectors) = numpy.linalg.eig(L)\n",
    "L_eigenvectors_strong = L_eigenvectors[:,numpy.array([True if (x > 1) else False for x in L_eigenvalues])]\n",
    "L_eigenvectors_strong.shape # |images| x |strong images|"
   ]
  },
  {
   "cell_type": "markdown",
   "metadata": {},
   "source": [
    "## Compute eigenfaces"
   ]
  },
  {
   "cell_type": "code",
   "execution_count": 7,
   "metadata": {
    "collapsed": false
   },
   "outputs": [],
   "source": [
    "C_eigenvectors = A.T.dot(L_eigenvectors_strong).T # eigenfaces\n",
    "C_eigenvectors.shape # |images| x |pixels|\n",
    "\n",
    "eigenfaces = C_eigenvectors"
   ]
  },
  {
   "cell_type": "markdown",
   "metadata": {},
   "source": [
    "## Project faces into eigenface space"
   ]
  },
  {
   "cell_type": "code",
   "execution_count": 8,
   "metadata": {
    "collapsed": false
   },
   "outputs": [
    {
     "data": {
      "text/plain": [
       "(300, 297)"
      ]
     },
     "execution_count": 8,
     "metadata": {},
     "output_type": "execute_result"
    }
   ],
   "source": [
    "# Project all training data into eigenface space\n",
    "train_faces_projected = numpy.vstack([eigenfaces.dot(train_face) for train_face in train_faces])\n",
    "train_faces_projected.shape"
   ]
  },
  {
   "cell_type": "markdown",
   "metadata": {},
   "source": [
    "## Perform test on faces outside our model"
   ]
  },
  {
   "cell_type": "code",
   "execution_count": null,
   "metadata": {
    "collapsed": false
   },
   "outputs": [],
   "source": [
    "import matplotlib.pyplot as plt\n",
    "\n",
    "def plot_image(title, image, n_col, n_row):\n",
    "    plt.figure()\n",
    "    image_shape = [n_col, n_row]\n",
    "    plt.title(title)\n",
    "    plt.imshow(\n",
    "        image.reshape(image_shape),\n",
    "        cmap = plt.cm.gray,\n",
    "        interpolation = 'nearest'\n",
    "    )\n",
    "    plt.show()\n",
    "\n",
    "# Recogniztion\n",
    "\n",
    "correct = 0.0\n",
    "total = len(test_faces)\n",
    "\n",
    "for test_index in range(total):\n",
    "    \n",
    "    test_face = test_faces[test_index]\n",
    "    test_target = test_targets[test_index]\n",
    "    \n",
    "    test_face_projected = eigenfaces.dot(test_face) # Test is already normalized\n",
    "    \n",
    "    distances = numpy.array([((test_face_projected - train_face_projected)**2).sum() for train_face_projected in train_faces_projected])\n",
    "    \n",
    "    guess_index = distances.argmin()\n",
    "    guess_face = train_faces[guess_index]\n",
    "    guess_target = train_targets[guess_index]\n",
    "    \n",
    "    if (test_target == guess_target):\n",
    "        correct += 1.0\n",
    "        #print([test_target, guess_target])\n",
    "    else:\n",
    "        #plot_image(\"Test Face\", test_face, 64, 64)\n",
    "        #plot_image(\"Guess Face\", guess_face, 64, 64)\n",
    "\n",
    "print '%d%% accuracy' % int(100.0*correct/total)\n",
    "print '... with %d unique people' % int(len(frozenset(dataset.target)))"
   ]
  }
 ],
 "metadata": {
  "kernelspec": {
   "display_name": "Python 2",
   "language": "python",
   "name": "python2"
  },
  "language_info": {
   "codemirror_mode": {
    "name": "ipython",
    "version": 2
   },
   "file_extension": ".py",
   "mimetype": "text/x-python",
   "name": "python",
   "nbconvert_exporter": "python",
   "pygments_lexer": "ipython2",
   "version": "2.7.6"
  }
 },
 "nbformat": 4,
 "nbformat_minor": 0
}
