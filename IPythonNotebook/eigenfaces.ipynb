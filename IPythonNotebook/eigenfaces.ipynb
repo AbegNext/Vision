{
 "cells": [
  {
   "cell_type": "code",
   "execution_count": 53,
   "metadata": {
    "collapsed": false
   },
   "outputs": [],
   "source": [
    "import numpy\n",
    "import matplotlib.pyplot as pyplot\n",
    "\n",
    "from numpy.random import RandomState\n",
    "from sklearn.datasets import fetch_olivetti_faces\n",
    "\n",
    "dataset = fetch_olivetti_faces(shuffle = True, random_state = RandomState(0))"
   ]
  },
  {
   "cell_type": "markdown",
   "metadata": {},
   "source": [
    "# Load and condition dataset"
   ]
  },
  {
   "cell_type": "code",
   "execution_count": 54,
   "metadata": {
    "collapsed": false
   },
   "outputs": [
    {
     "name": "stdout",
     "output_type": "stream",
     "text": [
      "faces: (400, 4096)\n"
     ]
    }
   ],
   "source": [
    "faces = dataset.data\n",
    "\n",
    "print('faces: %s' % str(faces.shape)) # |samples| x |features|\n",
    "\n",
    "# global centering\n",
    "faces_mean = faces.mean(axis = 0)\n",
    "faces_centered = faces - faces_mean\n",
    "\n",
    "# local centering\n",
    "faces_centered -= faces_centered.mean(axis = 1).reshape(faces.shape[0], -1)\n",
    "\n",
    "faces_centered.shape # |samples| x |features|\n",
    "\n",
    "split = int(0.25*len(faces))\n",
    "\n",
    "test_faces = faces_centered[:split]\n",
    "test_targets = dataset.target[:split]\n",
    "\n",
    "train_faces = faces_centered[split:]\n",
    "train_targets = dataset.target[split:]"
   ]
  },
  {
   "cell_type": "markdown",
   "metadata": {},
   "source": [
    "# Perform Eigen Analysis"
   ]
  },
  {
   "cell_type": "markdown",
   "metadata": {},
   "source": [
    "## Compute surrogate covariance matrix"
   ]
  },
  {
   "cell_type": "code",
   "execution_count": 55,
   "metadata": {
    "collapsed": false
   },
   "outputs": [
    {
     "name": "stdout",
     "output_type": "stream",
     "text": [
      "A: (300, 4096)\n",
      "L: (300, 300)\n"
     ]
    }
   ],
   "source": [
    "A = train_faces\n",
    "print('A: %s' % str(A.shape)) # |samples\\ x |features|\n",
    "L = A.dot(A.T)\n",
    "print('L: %s' % str(L.shape)) # |samples| x |samples|"
   ]
  },
  {
   "cell_type": "markdown",
   "metadata": {},
   "source": [
    "## Compute strong eigen vectors"
   ]
  },
  {
   "cell_type": "code",
   "execution_count": 56,
   "metadata": {
    "collapsed": false
   },
   "outputs": [
    {
     "name": "stdout",
     "output_type": "stream",
     "text": [
      "L eigenvectors: (300, 294)\n"
     ]
    }
   ],
   "source": [
    "(L_eigenvalues, L_eigenvectors) = numpy.linalg.eig(L)\n",
    "L_eigenvectors_strong = L_eigenvectors[:,numpy.array([True if (x > 1) else False for x in L_eigenvalues])]\n",
    "print('L eigenvectors: %s' % str(L_eigenvectors_strong.shape)) # |samples| x |strong samples|"
   ]
  },
  {
   "cell_type": "markdown",
   "metadata": {},
   "source": [
    "## Compute eigenfaces"
   ]
  },
  {
   "cell_type": "code",
   "execution_count": 57,
   "metadata": {
    "collapsed": false
   },
   "outputs": [
    {
     "name": "stdout",
     "output_type": "stream",
     "text": [
      "eigenfaces: (294, 4096)\n"
     ]
    }
   ],
   "source": [
    "C_eigenvectors = A.T.dot(L_eigenvectors_strong).T # eigenfaces\n",
    "eigenfaces = C_eigenvectors\n",
    "print('eigenfaces: %s' % str(eigenfaces.shape)) # |samples| x |features|"
   ]
  },
  {
   "cell_type": "markdown",
   "metadata": {},
   "source": [
    "## Project faces into eigenface space"
   ]
  },
  {
   "cell_type": "code",
   "execution_count": 58,
   "metadata": {
    "collapsed": false
   },
   "outputs": [
    {
     "data": {
      "text/plain": [
       "(300, 294)"
      ]
     },
     "execution_count": 58,
     "metadata": {},
     "output_type": "execute_result"
    }
   ],
   "source": [
    "# Project all training data into eigenface space\n",
    "train_faces_projected = numpy.vstack([eigenfaces.dot(train_face) for train_face in train_faces])\n",
    "train_faces_projected.shape # |samples| x |strong samples|"
   ]
  },
  {
   "cell_type": "markdown",
   "metadata": {},
   "source": [
    "# Perform test on faces outside our model"
   ]
  },
  {
   "cell_type": "code",
   "execution_count": 60,
   "metadata": {
    "collapsed": false
   },
   "outputs": [
    {
     "name": "stdout",
     "output_type": "stream",
     "text": [
      "81% accuracy\n",
      "... amongst 40 unique people\n"
     ]
    }
   ],
   "source": [
    "# Match test faces with training\n",
    "\n",
    "correct = 0.0\n",
    "trails = len(test_faces)\n",
    "\n",
    "for test_index in range(trails):\n",
    "    \n",
    "    test_face = test_faces[test_index]\n",
    "    test_target = test_targets[test_index]\n",
    "    \n",
    "    test_face_projected = eigenfaces.dot(test_face) # Note: faces are already normalized\n",
    "    \n",
    "    distances = numpy.array([((test_face_projected - train_face_projected)**2).sum() for train_face_projected in train_faces_projected])\n",
    "    \n",
    "    guess_index = distances.argmin()\n",
    "    guess_face = train_faces[guess_index]\n",
    "    guess_target = train_targets[guess_index]\n",
    "    \n",
    "    is_correct = (test_target == guess_target)\n",
    "    \n",
    "    if (is_correct):\n",
    "        correct += 1.0\n",
    "    \n",
    "    # Show some examples of matching...\n",
    "    if (test_index < 10):\n",
    "        # Test face...\n",
    "        pyplot.subplot(1,2,1)\n",
    "        pyplot.title('Test face')\n",
    "        pyplot.imshow(\n",
    "            test_face.reshape([64, 64]),\n",
    "            cmap = pyplot.cm.gray,\n",
    "            interpolation = 'nearest'\n",
    "        )\n",
    "        # Guess face...\n",
    "        pyplot.subplot(1,2,2)\n",
    "        pyplot.title('Guess face [%s match]' % ('Correct' if is_correct else 'Incorrect'))\n",
    "        pyplot.imshow(\n",
    "            guess_face.reshape([64, 64]),\n",
    "            cmap = plt.cm.gray,\n",
    "            interpolation = 'nearest'\n",
    "        )\n",
    "        # Show...\n",
    "        pyplot.show()\n",
    "\n",
    "print '%d%% accuracy' % int(100.0*correct/trails)\n",
    "print '... amongst %d unique people' % int(len(frozenset(dataset.target)))"
   ]
  }
 ],
 "metadata": {
  "kernelspec": {
   "display_name": "Python 2",
   "language": "python",
   "name": "python2"
  },
  "language_info": {
   "codemirror_mode": {
    "name": "ipython",
    "version": 2
   },
   "file_extension": ".py",
   "mimetype": "text/x-python",
   "name": "python",
   "nbconvert_exporter": "python",
   "pygments_lexer": "ipython2",
   "version": "2.7.6"
  }
 },
 "nbformat": 4,
 "nbformat_minor": 0
}
